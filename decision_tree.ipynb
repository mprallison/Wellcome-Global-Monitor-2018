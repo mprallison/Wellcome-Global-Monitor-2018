{
 "cells": [
  {
   "cell_type": "code",
   "execution_count": 1,
   "metadata": {},
   "outputs": [],
   "source": [
    "import pandas as pd\n",
    "import random\n",
    "import matplotlib.pyplot as plt\n",
    "import numpy as np\n",
    "from sklearn import linear_model\n",
    "from sklearn.metrics import accuracy_score\n",
    "from sklearn.model_selection import train_test_split\n",
    "from sklearn.tree import DecisionTreeClassifier"
   ]
  },
  {
   "cell_type": "code",
   "execution_count": 3,
   "metadata": {},
   "outputs": [],
   "source": [
    "data = pd.read_csv('data\\survey_data.csv',low_memory=False)"
   ]
  },
  {
   "cell_type": "code",
   "execution_count": 4,
   "metadata": {},
   "outputs": [],
   "source": [
    "#copy fields to be used in model\n",
    "\n",
    "df = data[['age', \n",
    "           #'age_category',\n",
    "           'gender',\n",
    "           'education',\n",
    "           'employment_status',\n",
    "           'household_income', \n",
    "           'subjective_income',\n",
    "           'geography', \n",
    "           'region',\n",
    "           #'country', \n",
    "           #'country_code', \n",
    "           'country_index',\n",
    "           #'country_income',\n",
    "           #'national_weight', #national weight, for analysis at the country level\n",
    "           #'population_weight', #population weight (included factor to project to 15+ population in each country) for analysis of pooled multi-country data\n",
    "           'Q1', #how much do you, personally, know about science? do you know a lot, some, not much, or nothing at all?\n",
    "           'Q2', #on this survey, when i say 'science' i mean the understanding we have about the world from observation and testing. when i say 'scientists' i mean people who study the planet earth, nature and medicine, among other things. how much did you understand the meaning of 'science' and 'scientists' that was just read? did you understand all of it, some of it, not much of it, or none of it?\n",
    "           'Q3', #do you think studying diseases is a part of science?\n",
    "           'Q4', #do you think writing poetry is a part of science?\n",
    "           'Q5A', #have you, personally, ever, learned about science at primary school?\n",
    "           'Q5B', #have you, personally, ever, learned about science at secondary school?\n",
    "           'Q5C', #have you, personally, ever, learned about science at college/university?\n",
    "           'Q6', #have you, personally, tried to get any information about science in the past 30 days?\n",
    "           'Q7', #have you, personally, tried to get any information about medicine, disease, or health in the past 30 days?\n",
    "           'Q8', #would you, personally, like to know more about science?\n",
    "           'Q9', #would you, personally, like to know more about medicine, disease, or health?\n",
    "           'Q10A', #in (country), do you have confidence in each of the following, or not? how about non-governmental organizations or non-profit organizations. \n",
    "           'Q10B', #in (country), do you have confidence in each of the following, or not? how about hospitals and health clinics.\n",
    "           'Q11A', #how much do you trust each of the following? how about the people in your neighborhood? do you trust them a lot, some, not much, or not at all?\n",
    "           'Q11B', #how much do you trust each of the following? how about the national government in this country? do you trust them a lot, some, not much, or not at all?\n",
    "           'Q11C', #how much do you trust each of the following? how about scientists in this country? do you trust them a lot, some, not much, or not at all?\n",
    "           'Q11D', #how much do you trust each of the following? how about journalists in this country? do you trust them a lot, some, not much, or not at all?\n",
    "           'Q11E', #how much do you trust each of the following? how about doctors and nurses in this country? do you trust them a lot, some, not much, or not at all?\n",
    "           'Q11F', #how much do you trust each of the following? how about people who work at non-governmental organizations or non-profit organizations? do you trust them a lot, some, not much, or not at all?\n",
    "           'Q11G', #how much do you trust each of the following? how about traditional healers (or country equivalent) in this country? do you trust them a lot, some, not much, or not at all?\n",
    "           'Q12', #in general, would you say that you trust science a lot, some, not much, or not at all?\n",
    "           'Q13', #in general, how much do you trust scientists to find out accurate information about the world? a lot, some, not much, or not at all?\n",
    "           'Q14A', #how much do you trust scientists working in colleges/universities in this country to do each of the following? to do their work with the intention of benefiting the public. do you trust them to do this a lot, some, not much, or not at all?\n",
    "           'Q14B', #how much do you trust scientists working in colleges/universities in this country to do each of the following? to be open and honest about who is paying for their work. do you trust them to do this a lot, some, not much, or not at all?\n",
    "           'Q15A', #now, thinking about companies - for example, those who make medicines or agricultural supplies - how much do you trust scientists working for companies in this country to do each of the following? to do their work with the intention of benefiting the public. do you trust them to do this a lot, some, not much, or not at all?\n",
    "           'Q15B', #now, thinking about companies - for example, those who make medicines or agricultural supplies - how much do you trust scientists working for companies in this country to do each of the following? to be open and honest about who is paying for their work. do you trust them to do this a lot, some, not much, or not at all?\n",
    "           'Q16', #in general, do you think the work that scientists do benefits most, some, or very few people in this country?\n",
    "           'Q17', #in general, do you think the work that scientists do benefits people like you in this country?\n",
    "           'Q18', #overall, do you think that science and technology will help improve life for the next generation?\n",
    "           'Q19', #overall, do you think that science and technology will increase/decrease the number of jobs in your local area in the next five years?\n",
    "           'Q20', #which of the following people do you trust most to give you medical or health advice?\n",
    "           'Q21', #in general, how much do you trust medical and health advice from the government in this country? a lot, some, not much, or not at all?\n",
    "           'Q22', #in general, how much do you trust medical and health advice from medical workers, such as doctors and nurses, in this country? a lot, some, not much, or not at all?\n",
    "           'Q23', #a vaccine is given to people to strengthen their body's ability to fight certain diseases. sometimes people are given a vaccine as an injection, but vaccines can also be given by mouth or some other way. before today, had you ever heard of a vaccine?\n",
    "           'Q24', #do you strongly or somewhat agree, strongly or somewhat disagree or neither agree nor disagree with the following statement? vaccines are important for children to have.\n",
    "           'Q25', #do you strongly or somewhat agree, strongly or somewhat disagree or neither agree nor disagree with the following statement? vaccines are safe.\n",
    "           'Q26', #do you strongly or somewhat agree, strongly or somewhat disagree or neither agree nor disagree with the following statement? vaccines are effective.\n",
    "           #'Q27', #do you, personally, have any children? \n",
    "           #'Q28', #(if respondent is a parent) to the best of your knowledge have any of your children ever received a vaccine that was supposed to prevent them from getting childhood diseases such as (examples), or not?\n",
    "           'D1'#, #are you religious?\n",
    "           #'Q29', #(if respondent identifies with a religion) has science ever disagreed with the teachings of your religion?\n",
    "           #'Q30', #(if respondent believes science has disagreed with teachings of religion) generally speaking, when science disagrees with the teachings of your religion, what do you believe? science or the teachings of your religion?\n",
    "           #'ViewOfScience', #wellcome global monitor trust in scientists index\n",
    "           #'WGM_Index', #wellcome global monitor trust in scientists index (recoded into 3 categories)\n",
    "           #'WGM_Indexr', #how a person views personal & societal benefit of science\n",
    "           ]].copy()"
   ]
  },
  {
   "cell_type": "code",
   "execution_count": 5,
   "metadata": {},
   "outputs": [],
   "source": [
    "#standardise and remove rows with null fields and rows with questions unanswered\n",
    "\n",
    "def nanNoAnswer(x):\n",
    "    if x == '!' or x == '?' or str(x) == 'nan':\n",
    "        return None\n",
    "    else:\n",
    "        return x\n",
    "    \n",
    "for i in df.columns:\n",
    "    df[i] = df[i].apply(lambda x:nanNoAnswer(x))\n",
    "    \n",
    "df = df.dropna().reset_index()"
   ]
  },
  {
   "cell_type": "code",
   "execution_count": 6,
   "metadata": {},
   "outputs": [],
   "source": [
    "#return category labels as integers\n",
    "#loose standard of classifying from smallests/lowest/least desireable answer as 0, 1...N. else arbitrary for labels\n",
    "\n",
    "def convAge(x):\n",
    "    if x == 'young':\n",
    "        return 0\n",
    "    if x == 'middle':\n",
    "        return 1\n",
    "    if x == 'old':\n",
    "        return 2\n",
    "def convGen(x):\n",
    "    if x == 'male':\n",
    "        return 0\n",
    "    if x == 'female':\n",
    "        return 1\n",
    "def convEdu(x):\n",
    "    if 'time' in x:\n",
    "        return 1\n",
    "    else:\n",
    "        return 0\n",
    "def convSubjIncome(x):\n",
    "    if x == 'struggling':\n",
    "        return 0\n",
    "    if x == 'managing':\n",
    "        return 1\n",
    "    if x == 'comfortable':\n",
    "        return 2\n",
    "def convGeog(x):\n",
    "    if x == 'rural':\n",
    "        return 0\n",
    "    if x == 'urban':\n",
    "        return 1\n",
    "def convReg(x):\n",
    "    if x == 'northern america':\n",
    "        return 0\n",
    "    if x =='north africa':\n",
    "        return 1\n",
    "    if x =='middle east':\n",
    "        return 2\n",
    "    if x =='south asia':\n",
    "        return 3\n",
    "    if x =='southeast asia':\n",
    "        return 4\n",
    "    if x =='northern europe':\n",
    "        return 5\n",
    "    if x =='western europe':\n",
    "        return 6\n",
    "    if x =='southern europe':\n",
    "        return 7\n",
    "    if x =='eastern europe':\n",
    "        return 8\n",
    "    if x =='east asia':\n",
    "        return 9\n",
    "    if x =='south america':\n",
    "        return 10\n",
    "    if x =='central america and mexico':\n",
    "        return 11\n",
    "    if x =='western africa':\n",
    "        return 12\n",
    "    if x =='eastern africa':\n",
    "        return 13\n",
    "    if x =='southern africa':\n",
    "        return 14\n",
    "    if x =='aus/nz':\n",
    "        return 15\n",
    "    if x =='central asia':\n",
    "        return 16\n",
    "    if x =='central africa':\n",
    "        return 17\n",
    "def convAuthority(x):\n",
    "    if x == 'famous person':\n",
    "        return 0\n",
    "    if x== 'religious leader':\n",
    "        return 1\n",
    "    if x== 'traditional healer':\n",
    "        return 2\n",
    "    if x == 'friend/family':\n",
    "        return 3\n",
    "    if x== 'doctor/nurse':\n",
    "        return 4\n",
    "    if x == 'An other':\n",
    "        return 5\n",
    "def vaxSafe(x):\n",
    "    if x == '1' or x == '0.75':\n",
    "        return 1\n",
    "    else:\n",
    "        return 0"
   ]
  },
  {
   "cell_type": "code",
   "execution_count": 7,
   "metadata": {},
   "outputs": [],
   "source": [
    "#add integer category columns \n",
    "\n",
    "df['int_gender'] = df['gender'].apply(lambda x:convGen(x))\n",
    "df['int_education'] = df['education'].apply(lambda x:convEdu(x))\n",
    "df['int_subj_income']  = df['subjective_income'].apply(lambda x:convSubjIncome(x))\n",
    "df['int_geography'] = df['geography'].apply(lambda x:convGeog(x))\n",
    "df['int_region'] = df['region'].apply(lambda x:convReg(x))\n",
    "df['int_advice'] = df['Q20'].apply(lambda x:convAuthority(x))\n",
    "df['vax_safe'] = df['Q25'].apply(lambda x:vaxSafe(x))"
   ]
  },
  {
   "cell_type": "code",
   "execution_count": 8,
   "metadata": {},
   "outputs": [],
   "source": [
    "#expect higher number of rows where vaccines believed safe\n",
    "#equalise dataset by randomly selecting from vax_safe subset a sample size equal to number of rows where vaccines belived to be unsafe\n",
    "\n",
    "safe = df['vax_safe'] == 1\n",
    "unsafe = df['vax_safe'] == 0\n",
    "\n",
    "safe_index = df[safe].index.tolist()\n",
    "\n",
    "L = df[unsafe].shape[0]\n",
    "new_index = random.sample(safe_index, L)\n",
    "\n",
    "all_index = new_index + df[unsafe].index.tolist()\n",
    "\n",
    "df = df.iloc[all_index].reset_index()"
   ]
  },
  {
   "cell_type": "code",
   "execution_count": 9,
   "metadata": {},
   "outputs": [],
   "source": [
    "X = df[['age',  'household_income','Q1', 'Q2', 'Q3', 'Q4', 'Q5A',\n",
    "       'Q5B', 'Q5C', 'Q6', 'Q7', 'Q8', 'Q9', 'Q10A', 'Q10B', 'Q11A', 'Q11B',\n",
    "       'Q11C', 'Q11D', 'Q11E', 'Q11F', 'Q11G', 'Q12', 'Q13', 'Q14A', 'Q14B',\n",
    "       'Q15A', 'Q15B', 'Q16', 'Q17', 'Q18', 'Q19', 'Q21', 'Q22', 'Q23','Q24','Q26',\n",
    "       'D1', 'int_gender','int_education',\n",
    "       'int_subj_income', 'int_geography', 'country_index', 'int_advice']].copy()\n",
    "\n",
    "y=df[['vax_safe']].copy()"
   ]
  },
  {
   "cell_type": "code",
   "execution_count": 10,
   "metadata": {},
   "outputs": [],
   "source": [
    "X_train, X_test, y_train, y_test = train_test_split(X, y, test_size=0.2, random_state=324)"
   ]
  },
  {
   "cell_type": "code",
   "execution_count": 11,
   "metadata": {},
   "outputs": [
    {
     "data": {
      "text/plain": [
       "DecisionTreeClassifier(class_weight=None, criterion='gini', max_depth=None,\n",
       "                       max_features=None, max_leaf_nodes=50,\n",
       "                       min_impurity_decrease=0.0, min_impurity_split=None,\n",
       "                       min_samples_leaf=1, min_samples_split=2,\n",
       "                       min_weight_fraction_leaf=0.0, presort=False,\n",
       "                       random_state=0, splitter='best')"
      ]
     },
     "execution_count": 11,
     "metadata": {},
     "output_type": "execute_result"
    }
   ],
   "source": [
    "vax_classifier = DecisionTreeClassifier(max_leaf_nodes=50, random_state=0)\n",
    "vax_classifier.fit(X_train, y_train)"
   ]
  },
  {
   "cell_type": "code",
   "execution_count": 12,
   "metadata": {},
   "outputs": [],
   "source": [
    "predictions = vax_classifier.predict(X_test)"
   ]
  },
  {
   "cell_type": "code",
   "execution_count": 13,
   "metadata": {},
   "outputs": [
    {
     "data": {
      "text/plain": [
       "0.7744961779013204"
      ]
     },
     "execution_count": 13,
     "metadata": {},
     "output_type": "execute_result"
    }
   ],
   "source": [
    "accuracy_score(y_true = y_test, y_pred = predictions)"
   ]
  },
  {
   "cell_type": "raw",
   "metadata": {},
   "source": [
    "accuracy score strikes me as quite low\n",
    "suggests that scepticism about vaccine saftey does not have reliable signitures either in demographic or other attitudes data"
   ]
  },
  {
   "cell_type": "code",
   "execution_count": null,
   "metadata": {},
   "outputs": [],
   "source": []
  }
 ],
 "metadata": {
  "kernelspec": {
   "display_name": "Python 3",
   "language": "python",
   "name": "python3"
  },
  "language_info": {
   "codemirror_mode": {
    "name": "ipython",
    "version": 3
   },
   "file_extension": ".py",
   "mimetype": "text/x-python",
   "name": "python",
   "nbconvert_exporter": "python",
   "pygments_lexer": "ipython3",
   "version": "3.7.4"
  }
 },
 "nbformat": 4,
 "nbformat_minor": 4
}
